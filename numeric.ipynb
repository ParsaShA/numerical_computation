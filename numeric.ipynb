{
 "cells": [
  {
   "cell_type": "code",
   "id": "initial_id",
   "metadata": {
    "collapsed": true,
    "ExecuteTime": {
     "end_time": "2025-01-29T13:49:42.705664Z",
     "start_time": "2025-01-29T13:49:41.743951Z"
    }
   },
   "source": [
    "import sympy as sp\n",
    "from pprint import pprint\n",
    "import numpy as np"
   ],
   "outputs": [],
   "execution_count": 1
  },
  {
   "metadata": {},
   "cell_type": "markdown",
   "source": "# FIRST question ",
   "id": "5c0ef01dff5d0627"
  },
  {
   "metadata": {
    "ExecuteTime": {
     "end_time": "2025-01-29T13:49:53.129824Z",
     "start_time": "2025-01-29T13:49:52.978519Z"
    }
   },
   "cell_type": "code",
   "source": [
    "def taylor_series(f, point, epsilon):\n",
    "    # Define the symbolic variable\n",
    "    x = sp.symbols('x')\n",
    "    \n",
    "    # Initialize variables\n",
    "    s = 0.0  # Numerical sum of the Taylor series\n",
    "    i = 0  # Current order of derivative\n",
    "    term = epsilon + 1  # Ensure at least one iteration\n",
    "    \n",
    "    while abs(term) > epsilon:\n",
    "        # Compute the i-th derivative symbolically\n",
    "        f_prime = sp.diff(f, x, i)\n",
    "        \n",
    "        # Evaluate the i-th term numerically\n",
    "        term = float(f_prime.subs(x, point)) / sp.factorial(i)\n",
    "        \n",
    "        # Add the term to the series\n",
    "        s += term\n",
    "        \n",
    "        # Move to the next order\n",
    "        i += 1\n",
    "    \n",
    "    return s\n",
    "\n",
    "# Example usage\n",
    "# part 1,2\n",
    "epsilon = 1e-7\n",
    "x = sp.symbols('x')\n",
    "f = sp.sin(x)\n",
    "result = taylor_series(f, 1, epsilon)  # Taylor series for sin(x) at x=1 with epsilon\n",
    "prec = int(abs(np.log10(epsilon)))\n",
    "print(f'result is {result:.{prec}}')"
   ],
   "id": "5fb801b3ae4644e1",
   "outputs": [
    {
     "name": "stdout",
     "output_type": "stream",
     "text": [
      "result is 0.9092974\n"
     ]
    }
   ],
   "execution_count": 2
  },
  {
   "metadata": {},
   "cell_type": "markdown",
   "source": "# second question",
   "id": "1b373cd1b7ba16a6"
  },
  {
   "metadata": {},
   "cell_type": "markdown",
   "source": "###### part 1",
   "id": "2ce8a8e04462154e"
  },
  {
   "metadata": {
    "ExecuteTime": {
     "end_time": "2025-01-29T13:51:52.798650Z",
     "start_time": "2025-01-29T13:51:52.751771Z"
    }
   },
   "cell_type": "code",
   "source": [
    "# Define the function f(x, y1, y2, y3)\n",
    "def f(x, y1, y2, y3):\n",
    "    return (-y3 / 4) + (y2 / 16) - (y1 / 32) + \\\n",
    "           3 * np.sin(x / 2) + 2 * np.cos(x / 2) + 0.1875 * np.exp(x)\n",
    "\n",
    "# Runge-Kutta method for a system of first-order ODEs\n",
    "def runge_kutta_3rd_order(f, y0, x0, x_end, h):\n",
    "    # Number of steps\n",
    "    n = int((x_end - x0) / h)\n",
    "    \n",
    "    # Initialize arrays to store results\n",
    "    x_values = np.zeros(n + 1)\n",
    "    y_values = np.zeros((n + 1, 3))  # 3 for y1, y2, y3\n",
    "\n",
    "    # Set initial conditions\n",
    "    x_values[0] = x0\n",
    "    y_values[0] = y0\n",
    "\n",
    "    # Runge-Kutta iteration\n",
    "    for i in range(n):\n",
    "        x = x_values[i]\n",
    "        y1, y2, y3 = y_values[i]\n",
    "\n",
    "        # Calculate k values\n",
    "        k1 = h * y2\n",
    "        l1 = h * y3\n",
    "        m1 = h * f(x, y1, y2, y3)\n",
    "\n",
    "        k2 = h * (y2 + 0.5 * l1)\n",
    "        l2 = h * (y3 + 0.5 * m1)\n",
    "        m2 = h * f(x + 0.5 * h, y1 + 0.5 * k1, y2 + 0.5 * l1, y3 + 0.5 * m1)\n",
    "\n",
    "        k3 = h * (y2 + 0.5 * l2)\n",
    "        l3 = h * (y3 + 0.5 * m2)\n",
    "        m3 = h * f(x + 0.5 * h, y1 + 0.5 * k2, y2 + 0.5 * l2, y3 + 0.5 * m2)\n",
    "\n",
    "        k4 = h * (y2 + l3)\n",
    "        l4 = h * (y3 + m3)\n",
    "        m4 = h * f(x + h, y1 + k3, y2 + l3, y3 + m3)\n",
    "\n",
    "        # Update values\n",
    "        y_values[i + 1, 0] = y1 + k1 / 6 + k2 / 3 + k3 / 3 + k4 / 6\n",
    "        y_values[i + 1, 1] = y2 + l1 / 6 + l2 / 3 + l3 / 3 + l4 / 6\n",
    "        y_values[i + 1, 2] = y3 + m1 / 6 + m2 / 3 + m3 / 3 + m4 / 6\n",
    "\n",
    "        x_values[i + 1] = x + h\n",
    "\n",
    "    return x_values, y_values\n",
    "\n",
    "# Initial conditions\n",
    "x0 = -15  # Initial x\n",
    "x_end = 10.0  # End x\n",
    "h = 5  # Step size\n",
    "y0 = np.array([12, -3, -5.75])  # Initial conditions: y(0), y'(0), y''(0)\n",
    "\n",
    "# Run the Runge-Kutta method\n",
    "x_values, y_values = runge_kutta_3rd_order(f, y0, x0, x_end, h)\n",
    "print(np.round(y_values))\n",
    "#x_values     array([-15., -10.,  -5.,   0.,   5.,  10.])\n",
    "\n",
    "# y_values     [[ 1.200e+01 -3.000e+00 -6.000e+00]\n",
    "#  [-5.600e+01 -2.000e+01  6.000e+00]\n",
    "#  [-5.000e+01  2.700e+01  6.000e+00]\n",
    "#  [ 1.330e+02  3.400e+01  2.000e+00]\n",
    "#  [ 3.350e+02  4.600e+01  2.100e+01]\n",
    "#  [ 4.244e+03  2.054e+03  4.249e+03]]\n",
    "\n"
   ],
   "id": "abf17190be189a31",
   "outputs": [
    {
     "name": "stdout",
     "output_type": "stream",
     "text": [
      "[[ 1.200e+01 -3.000e+00 -6.000e+00]\n",
      " [-5.600e+01 -2.000e+01  6.000e+00]\n",
      " [-5.000e+01  2.700e+01  6.000e+00]\n",
      " [ 1.330e+02  3.400e+01  2.000e+00]\n",
      " [ 3.350e+02  4.600e+01  2.100e+01]\n",
      " [ 4.244e+03  2.054e+03  4.249e+03]]\n"
     ]
    }
   ],
   "execution_count": 3
  },
  {
   "metadata": {},
   "cell_type": "markdown",
   "source": "###### part 2",
   "id": "c450fa146cac3307"
  },
  {
   "metadata": {},
   "cell_type": "code",
   "outputs": [],
   "execution_count": null,
   "source": "",
   "id": "98b21353ec55adb9"
  },
  {
   "metadata": {
    "ExecuteTime": {
     "end_time": "2025-01-29T13:53:16.272909Z",
     "start_time": "2025-01-29T13:53:16.210447Z"
    }
   },
   "cell_type": "code",
   "source": [
    "def forward_difference_table(x, y):\n",
    "    n = len(y)\n",
    "    # Create a table for forward differences\n",
    "    diff_table = np.zeros((n, n))\n",
    "    diff_table[:, 0] = y  # First column is y values\n",
    "\n",
    "    # Calculate forward differences\n",
    "    for j in range(1, n):\n",
    "        for i in range(n - j):\n",
    "            diff_table[i][j] = diff_table[i + 1][j - 1] - diff_table[i][j - 1]\n",
    "\n",
    "    return diff_table\n",
    "\n",
    "def newton_forward_interpolation_polynomial(x, y):\n",
    "    n = len(x)\n",
    "    diff_table = forward_difference_table(x, y)\n",
    "\n",
    "    # Define the symbol for x\n",
    "    x_symbol = sp.symbols('x')\n",
    "\n",
    "    # Initialize the polynomial\n",
    "    polynomial = 0\n",
    "\n",
    "    # Construct the polynomial using forward differences\n",
    "    for i in range(n):\n",
    "        term = diff_table[0][i]  # First element of the ith column\n",
    "        # Construct the product term\n",
    "        product_term = 1\n",
    "        for j in range(i):\n",
    "            product_term *= (x_symbol - x[j])  # (x - x_j)\n",
    "        term *= product_term / sp.factorial(i)  # Divide by i!\n",
    "        polynomial += term  # Add to the polynomial\n",
    "\n",
    "    return polynomial\n",
    "\n",
    "# Example usage\n",
    "x_values = x_values.flatten()  # Known x values\n",
    "y_values = y_values.flatten()# Corresponding y values\n",
    "\n",
    "# Get the polynomial\n",
    "polynomial = newton_forward_interpolation_polynomial(x_values, y_values)\n",
    "\n",
    "# Display the polynomial\n",
    "print(f\"Newton Forward Interpolation Polynomial: {polynomial}\")\n",
    "\"\"\"\n",
    "\n",
    "Newton Forward Interpolation Polynomial: -3.50635525823873*x*(x - 5.0)*(x + 5.0)*(x + 10.0)*(x + 15.0) + 8.01663201866367*x*(x + 5.0)*(x + 10.0)*(x + 15.0) - 15.0*x - 9.90585725546426*(x + 5.0)*(x + 10.0)*(x + 15.0) + 6.125*(x + 10.0)*(x + 15.0) - 213.0\n",
    "\n",
    "\n",
    "\"\"\""
   ],
   "id": "26d743b99e1a02ec",
   "outputs": [
    {
     "name": "stdout",
     "output_type": "stream",
     "text": [
      "Newton Forward Interpolation Polynomial: -3.50635525823873*x*(x - 5.0)*(x + 5.0)*(x + 10.0)*(x + 15.0) + 8.01663201866367*x*(x + 5.0)*(x + 10.0)*(x + 15.0) - 15.0*x - 9.90585725546426*(x + 5.0)*(x + 10.0)*(x + 15.0) + 6.125*(x + 10.0)*(x + 15.0) - 213.0\n"
     ]
    },
    {
     "data": {
      "text/plain": [
       "'\\n\\nNewton Forward Interpolation Polynomial: -3.50635525823873*x*(x - 5.0)*(x + 5.0)*(x + 10.0)*(x + 15.0) + 8.01663201866367*x*(x + 5.0)*(x + 10.0)*(x + 15.0) - 15.0*x - 9.90585725546426*(x + 5.0)*(x + 10.0)*(x + 15.0) + 6.125*(x + 10.0)*(x + 15.0) - 213.0\\n\\n\\n'"
      ]
     },
     "execution_count": 4,
     "metadata": {},
     "output_type": "execute_result"
    }
   ],
   "execution_count": 4
  },
  {
   "metadata": {},
   "cell_type": "markdown",
   "source": "###### part 3",
   "id": "3f51ba87626efd07"
  },
  {
   "metadata": {
    "ExecuteTime": {
     "end_time": "2025-01-29T13:53:54.974866Z",
     "start_time": "2025-01-29T13:53:54.849895Z"
    }
   },
   "cell_type": "code",
   "source": [
    "x = sp.symbols('x')\n",
    "y_prime = sp.diff(polynomial,x)\n",
    "\n",
    "def newton_raphson(f, df, x0, tol=1e-7, max_iter=100):\n",
    "    x_n = x0\n",
    "    for i in range(max_iter):\n",
    "        # Evaluate the function and its derivative at the current guess\n",
    "        f_xn = f.subs(sp.symbols('x'), x_n)\n",
    "        df_xn = df.subs(sp.symbols('x'), x_n)\n",
    "        \n",
    "        # Check if the derivative is zero to avoid division by zero\n",
    "        if df_xn == 0:\n",
    "            print(\"Derivative is zero. No solution found.\")\n",
    "            return None\n",
    "        \n",
    "        # Update the guess using the Newton-Raphson formula\n",
    "        x_n1 = x_n - f_xn / df_xn\n",
    "        \n",
    "        # Check for convergence\n",
    "        if abs(x_n1 - x_n) < tol:\n",
    "            return x_n1\n",
    "        \n",
    "        x_n = x_n1\n",
    "    \n",
    "    print(\"Maximum iterations reached. No solution found.\")\n",
    "    return None\n",
    "\n",
    "\n",
    "\n",
    "# Initial guess\n",
    "initial_guess = 2.0\n",
    "\n",
    "# Find the root\n",
    "root = newton_raphson(polynomial, y_prime, initial_guess)\n",
    "\n",
    "if root is not None:\n",
    "    print(f\"Root found: {root}\")\n",
    "    \n",
    "\"\"\"\n",
    "Root found: 0.372092203280713\n",
    "\"\"\""
   ],
   "id": "15d3850030624c72",
   "outputs": [
    {
     "name": "stdout",
     "output_type": "stream",
     "text": [
      "Root found: 0.372092203280713\n"
     ]
    },
    {
     "data": {
      "text/plain": [
       "'\\nRoot found: 0.372092203280713\\n'"
      ]
     },
     "execution_count": 5,
     "metadata": {},
     "output_type": "execute_result"
    }
   ],
   "execution_count": 5
  },
  {
   "metadata": {},
   "cell_type": "markdown",
   "source": "# third question",
   "id": "5568d1a527a69bd1"
  },
  {
   "metadata": {
    "ExecuteTime": {
     "end_time": "2025-01-29T13:54:28.309547Z",
     "start_time": "2025-01-29T13:54:28.167700Z"
    }
   },
   "cell_type": "code",
   "source": [
    "def newton_solver(f, g, h, epsilon, init=[1, 1, 1]):\n",
    "    # Ensure the initial guess is a float array\n",
    "    init = np.array(init, dtype=float)\n",
    "    x, y, z = sp.symbols('x y z')  # Define symbols for SymPy\n",
    "\n",
    "    # Convert input functions to symbolic expressions\n",
    "    f_expr = f(x, y, z)\n",
    "    g_expr = g(x, y, z)\n",
    "    h_expr = h(x, y, z)\n",
    "\n",
    "    # Compute symbolic gradients (Jacobian entries)\n",
    "    grad_f = [sp.diff(f_expr, var) for var in (x, y, z)]\n",
    "    grad_g = [sp.diff(g_expr, var) for var in (x, y, z)]\n",
    "    grad_h = [sp.diff(h_expr, var) for var in (x, y, z)]\n",
    "\n",
    "    # Lambdify functions for numerical evaluation\n",
    "    f_num = sp.lambdify((x, y, z), f_expr, 'numpy')\n",
    "    g_num = sp.lambdify((x, y, z), g_expr, 'numpy')\n",
    "    h_num = sp.lambdify((x, y, z), h_expr, 'numpy')\n",
    "\n",
    "    grad_f_num = [sp.lambdify((x, y, z), grad, 'numpy') for grad in grad_f]\n",
    "    grad_g_num = [sp.lambdify((x, y, z), grad, 'numpy') for grad in grad_g]\n",
    "    grad_h_num = [sp.lambdify((x, y, z), grad, 'numpy') for grad in grad_h]\n",
    "\n",
    "    while True:\n",
    "        # Evaluate gradients at the current point\n",
    "        grad_f_val = [grad(*init) for grad in grad_f_num]\n",
    "        grad_g_val = [grad(*init) for grad in grad_g_num]\n",
    "        grad_h_val = [grad(*init) for grad in grad_h_num]\n",
    "\n",
    "        # Create Jacobian matrix\n",
    "        A = np.array([grad_f_val, grad_g_val, grad_h_val])\n",
    "\n",
    "        # Evaluate function values at the current point\n",
    "        b = np.array([-f_num(*init), -g_num(*init), -h_num(*init)])\n",
    "\n",
    "        # Solve the linear system A * delta = b\n",
    "        delta = np.linalg.solve(A, b)\n",
    "\n",
    "        # Update the solution\n",
    "        init = init + delta\n",
    "\n",
    "        # Check for convergence\n",
    "        if np.linalg.norm(delta) < epsilon:\n",
    "            return init\n",
    "\n",
    "# Example usage\n",
    "solution = newton_solver(\n",
    "    f:=lambda x, y, z: sp.symbols('x')**2 + sp.symbols('y')**2 + sp.symbols('z')**2 - 1,  # First equation\n",
    "    g:=lambda x, y, z: sp.sin(sp.symbols('y')) * sp.symbols('z'),       # Second equation\n",
    "    h:=lambda x, y, z: sp.symbols('x')**3 +  - sp.symbols('z'),       # Third equation\n",
    "    epsilon=1e-5,\n",
    "    init=[0.1, 0.1, 0.1]\n",
    ")\n",
    "\n",
    "print(\"Solution:\", solution,\"\\n\")\n",
    "x, y, z = solution\n",
    "###  Solution: [ 1.71602449e-005 -1.00000000e+000  2.25305659e-149]\n",
    "print(f(x,y,z),solution,\"\\n\")\n",
    "print(g(x,y,z),solution,\"\\n\")\n",
    "print(h(x,y,z),solution,\"\\n\")\n",
    "### they are so close \n",
    "'''\n",
    "\n",
    "\n",
    "Solution: [ 1.71602449e-005 -1.00000000e+000  2.25305659e-149] \n",
    "\n",
    "x**2 + y**2 + z**2 - 1 [ 1.71602449e-005 -1.00000000e+000  2.25305659e-149] \n",
    "\n",
    "z*sin(y) [ 1.71602449e-005 -1.00000000e+000  2.25305659e-149] \n",
    "\n",
    "x**3 - z [ 1.71602449e-005 -1.00000000e+000  2.25305659e-149] \n",
    "\n",
    "\n",
    "\n",
    "\n",
    "\n",
    "'''"
   ],
   "id": "bce45fc55899cd2f",
   "outputs": [
    {
     "name": "stdout",
     "output_type": "stream",
     "text": [
      "Solution: [ 1.71602449e-005 -1.00000000e+000  2.25305659e-149] \n",
      "\n",
      "x**2 + y**2 + z**2 - 1 [ 1.71602449e-005 -1.00000000e+000  2.25305659e-149] \n",
      "\n",
      "z*sin(y) [ 1.71602449e-005 -1.00000000e+000  2.25305659e-149] \n",
      "\n",
      "x**3 - z [ 1.71602449e-005 -1.00000000e+000  2.25305659e-149] \n",
      "\n"
     ]
    },
    {
     "data": {
      "text/plain": [
       "'\\n\\n\\nSolution: [ 1.71602449e-005 -1.00000000e+000  2.25305659e-149] \\n\\nx**2 + y**2 + z**2 - 1 [ 1.71602449e-005 -1.00000000e+000  2.25305659e-149] \\n\\nz*sin(y) [ 1.71602449e-005 -1.00000000e+000  2.25305659e-149] \\n\\nx**3 - z [ 1.71602449e-005 -1.00000000e+000  2.25305659e-149] \\n\\n\\n\\n\\n\\n'"
      ]
     },
     "execution_count": 7,
     "metadata": {},
     "output_type": "execute_result"
    }
   ],
   "execution_count": 7
  },
  {
   "metadata": {},
   "cell_type": "markdown",
   "source": "# forth question ",
   "id": "2fe4fb333dc6697d"
  },
  {
   "metadata": {
    "ExecuteTime": {
     "end_time": "2025-01-29T13:56:01.586725Z",
     "start_time": "2025-01-29T13:56:01.555452Z"
    }
   },
   "cell_type": "code",
   "source": [
    "def krylov_method(A, v):\n",
    "    n = A.shape[0]  # Dimension of the square matrix A\n",
    "    # Initialize the Krylov matrix\n",
    "    K = v  # First column of the Krylov matrix is v\n",
    "    for i in range(1, n):\n",
    "        K = np.c_[K, np.linalg.matrix_power(A, i).dot(v)]  # Append columns\n",
    "    # Solve the linear system K * c = -A^n * v\n",
    "    b = -np.linalg.matrix_power(A, n).dot(v)\n",
    "    c = np.linalg.solve(K, b)\n",
    "    return c\n",
    "\n",
    "A = np.array([[1, 2, 3, 4],\n",
    "              [2, 1, 2, 3],\n",
    "              [3, 2, 1, 2],\n",
    "              [4, 3, 2, 1]])\n",
    "v = np.array([[1], [0], [0], [0]])\n",
    "\n",
    "result = krylov_method(A, v)\n",
    "print(result)\n",
    "print(np.poly1d(np.insert(result,0,1).flatten()))\n",
    "#### answer:\n",
    "'''\n",
    "[[-20.]\n",
    " [-56.]\n",
    " [-40.]\n",
    " [ -4.]]\n",
    "   4      3      2\n",
    "1 x - 20 x - 56 x - 40 x - 4\n",
    "\n",
    "'''"
   ],
   "id": "378fed13581f87c4",
   "outputs": [
    {
     "name": "stdout",
     "output_type": "stream",
     "text": [
      "[[-20.]\n",
      " [-56.]\n",
      " [-40.]\n",
      " [ -4.]]\n",
      "   4      3      2\n",
      "1 x - 20 x - 56 x - 40 x - 4\n"
     ]
    },
    {
     "data": {
      "text/plain": [
       "'\\n[[-20.]\\n [-56.]\\n [-40.]\\n [ -4.]]\\n   4      3      2\\n1 x - 20 x - 56 x - 40 x - 4\\n\\n'"
      ]
     },
     "execution_count": 8,
     "metadata": {},
     "output_type": "execute_result"
    }
   ],
   "execution_count": 8
  },
  {
   "metadata": {
    "ExecuteTime": {
     "end_time": "2025-01-27T10:51:14.181464Z",
     "start_time": "2025-01-27T10:51:14.165833Z"
    }
   },
   "cell_type": "code",
   "source": "",
   "id": "9e467f8d6ce94031",
   "outputs": [],
   "execution_count": 28
  },
  {
   "metadata": {},
   "cell_type": "code",
   "outputs": [],
   "execution_count": null,
   "source": "",
   "id": "c6ac3065fec677d5"
  }
 ],
 "metadata": {
  "kernelspec": {
   "display_name": "Python 3",
   "language": "python",
   "name": "python3"
  },
  "language_info": {
   "codemirror_mode": {
    "name": "ipython",
    "version": 2
   },
   "file_extension": ".py",
   "mimetype": "text/x-python",
   "name": "python",
   "nbconvert_exporter": "python",
   "pygments_lexer": "ipython2",
   "version": "2.7.6"
  }
 },
 "nbformat": 4,
 "nbformat_minor": 5
}
