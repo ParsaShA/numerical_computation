{
 "cells": [
  {
   "cell_type": "code",
   "execution_count": 1,
   "id": "initial_id",
   "metadata": {
    "ExecuteTime": {
     "end_time": "2025-01-29T13:49:42.705664Z",
     "start_time": "2025-01-29T13:49:41.743951Z"
    },
    "collapsed": true
   },
   "outputs": [],
   "source": [
    "import sympy as sp\n",
    "import numpy as np"
   ]
  },
  {
   "cell_type": "markdown",
   "id": "5c0ef01dff5d0627",
   "metadata": {},
   "source": [
    "# estimating Taylor Series"
   ]
  },
  {
   "cell_type": "code",
   "execution_count": 2,
   "id": "5fb801b3ae4644e1",
   "metadata": {
    "ExecuteTime": {
     "end_time": "2025-01-29T13:49:53.129824Z",
     "start_time": "2025-01-29T13:49:52.978519Z"
    }
   },
   "outputs": [
    {
     "name": "stdout",
     "output_type": "stream",
     "text": [
      "result is 0.9092974\n"
     ]
    }
   ],
   "source": [
    "def taylor_series(f, point, epsilon):\n",
    "    x = sp.symbols('x')\n",
    "    \n",
    "    s = 0.0 \n",
    "    i = 0  \n",
    "    term = epsilon + 1  \n",
    "    \n",
    "    while abs(term) > epsilon:\n",
    "        f_prime = sp.diff(f, x, i)\n",
    "        \n",
    "        term = float(f_prime.subs(x, point)) / sp.factorial(i)\n",
    "        \n",
    "        s += term\n",
    "        i += 1\n",
    "    \n",
    "    return s\n",
    "\n",
    "epsilon = 1e-7\n",
    "x = sp.symbols('x')\n",
    "f = sp.sin(x)\n",
    "result = taylor_series(f, 1, epsilon)  \n",
    "prec = int(abs(np.log10(epsilon)))\n",
    "print(f'result is {result:.{prec}}')"
   ]
  },
  {
   "cell_type": "markdown",
   "id": "1b373cd1b7ba16a6",
   "metadata": {},
   "source": [
    "# solving differential equation using runge-kuta method"
   ]
  },
  {
   "cell_type": "markdown",
   "id": "2ce8a8e04462154e",
   "metadata": {},
   "source": [
    "###### part 1"
   ]
  },
  {
   "cell_type": "code",
   "execution_count": 3,
   "id": "abf17190be189a31",
   "metadata": {
    "ExecuteTime": {
     "end_time": "2025-01-29T13:51:52.798650Z",
     "start_time": "2025-01-29T13:51:52.751771Z"
    }
   },
   "outputs": [
    {
     "name": "stdout",
     "output_type": "stream",
     "text": [
      "[[ 1.200e+01 -3.000e+00 -6.000e+00]\n",
      " [-5.600e+01 -2.000e+01  6.000e+00]\n",
      " [-5.000e+01  2.700e+01  6.000e+00]\n",
      " [ 1.330e+02  3.400e+01  2.000e+00]\n",
      " [ 3.350e+02  4.600e+01  2.100e+01]\n",
      " [ 4.244e+03  2.054e+03  4.249e+03]]\n"
     ]
    }
   ],
   "source": [
    "def f(x, y1, y2, y3):\n",
    "    return (-y3 / 4) + (y2 / 16) - (y1 / 32) + \\\n",
    "           3 * np.sin(x / 2) + 2 * np.cos(x / 2) + 0.1875 * np.exp(x)\n",
    "\n",
    "def runge_kutta_3rd_order(f, y0, x0, x_end, h):\n",
    "    n = int((x_end - x0) / h)\n",
    "    \n",
    "    x_values = np.zeros(n + 1)\n",
    "    y_values = np.zeros((n + 1, 3))  \n",
    "\n",
    "    x_values[0] = x0\n",
    "    y_values[0] = y0\n",
    "\n",
    "    for i in range(n):\n",
    "        x = x_values[i]\n",
    "        y1, y2, y3 = y_values[i]\n",
    "\n",
    "        k1 = h * y2\n",
    "        l1 = h * y3\n",
    "        m1 = h * f(x, y1, y2, y3)\n",
    "\n",
    "        k2 = h * (y2 + 0.5 * l1)\n",
    "        l2 = h * (y3 + 0.5 * m1)\n",
    "        m2 = h * f(x + 0.5 * h, y1 + 0.5 * k1, y2 + 0.5 * l1, y3 + 0.5 * m1)\n",
    "\n",
    "        k3 = h * (y2 + 0.5 * l2)\n",
    "        l3 = h * (y3 + 0.5 * m2)\n",
    "        m3 = h * f(x + 0.5 * h, y1 + 0.5 * k2, y2 + 0.5 * l2, y3 + 0.5 * m2)\n",
    "\n",
    "        k4 = h * (y2 + l3)\n",
    "        l4 = h * (y3 + m3)\n",
    "        m4 = h * f(x + h, y1 + k3, y2 + l3, y3 + m3)\n",
    "\n",
    "        y_values[i + 1, 0] = y1 + k1 / 6 + k2 / 3 + k3 / 3 + k4 / 6\n",
    "        y_values[i + 1, 1] = y2 + l1 / 6 + l2 / 3 + l3 / 3 + l4 / 6\n",
    "        y_values[i + 1, 2] = y3 + m1 / 6 + m2 / 3 + m3 / 3 + m4 / 6\n",
    "\n",
    "        x_values[i + 1] = x + h\n",
    "\n",
    "    return x_values, y_values\n",
    "\n",
    "x0 = -15 \n",
    "x_end = 10.0 \n",
    "h = 5 \n",
    "y0 = np.array([12, -3, -5.75]) \n",
    "\n",
    "x_values, y_values = runge_kutta_3rd_order(f, y0, x0, x_end, h)\n",
    "print(np.round(y_values))\n",
    "\n",
    "\n"
   ]
  },
  {
   "cell_type": "markdown",
   "id": "c450fa146cac3307",
   "metadata": {},
   "source": [
    "###### part 2"
   ]
  },
  {
   "cell_type": "markdown",
   "id": "98b21353ec55adb9",
   "metadata": {},
   "source": [
    "##### estimating y using Newton forward method"
   ]
  },
  {
   "cell_type": "code",
   "execution_count": 4,
   "id": "26d743b99e1a02ec",
   "metadata": {
    "ExecuteTime": {
     "end_time": "2025-01-29T13:53:16.272909Z",
     "start_time": "2025-01-29T13:53:16.210447Z"
    }
   },
   "outputs": [
    {
     "name": "stdout",
     "output_type": "stream",
     "text": [
      "Newton Forward Interpolation Polynomial: -3.50635525823873*x*(x - 5.0)*(x + 5.0)*(x + 10.0)*(x + 15.0) + 8.01663201866367*x*(x + 5.0)*(x + 10.0)*(x + 15.0) - 15.0*x - 9.90585725546426*(x + 5.0)*(x + 10.0)*(x + 15.0) + 6.125*(x + 10.0)*(x + 15.0) - 213.0\n"
     ]
    },
    {
     "data": {
      "text/plain": [
       "'\\n\\nNewton Forward Interpolation Polynomial: -3.50635525823873*x*(x - 5.0)*(x + 5.0)*(x + 10.0)*(x + 15.0) + 8.01663201866367*x*(x + 5.0)*(x + 10.0)*(x + 15.0) - 15.0*x - 9.90585725546426*(x + 5.0)*(x + 10.0)*(x + 15.0) + 6.125*(x + 10.0)*(x + 15.0) - 213.0\\n\\n\\n'"
      ]
     },
     "execution_count": 4,
     "metadata": {},
     "output_type": "execute_result"
    }
   ],
   "source": [
    "def forward_difference_table(x, y):\n",
    "    n = len(y)\n",
    "    diff_table = np.zeros((n, n))\n",
    "    diff_table[:, 0] = y \n",
    "    for j in range(1, n):\n",
    "        for i in range(n - j):\n",
    "            diff_table[i][j] = diff_table[i + 1][j - 1] - diff_table[i][j - 1]\n",
    "\n",
    "    return diff_table\n",
    "\n",
    "def newton_forward_interpolation_polynomial(x, y):\n",
    "    n = len(x)\n",
    "    diff_table = forward_difference_table(x, y)\n",
    "\n",
    "    x_symbol = sp.symbols('x')\n",
    "\n",
    "    polynomial = 0\n",
    "\n",
    "    for i in range(n):\n",
    "        term = diff_table[0][i]  \n",
    "        product_term = 1\n",
    "        for j in range(i):\n",
    "            product_term *= (x_symbol - x[j])  \n",
    "        term *= product_term / sp.factorial(i)  \n",
    "        polynomial += term \n",
    "\n",
    "    return polynomial\n",
    "\n",
    "x_values = x_values.flatten()  \n",
    "y_values = y_values.flatten()\n",
    "\n",
    "polynomial = newton_forward_interpolation_polynomial(x_values, y_values)\n",
    "\n",
    "print(f\"Newton Forward Interpolation Polynomial: {polynomial}\")\n"
   ]
  },
  {
   "cell_type": "markdown",
   "id": "3f51ba87626efd07",
   "metadata": {},
   "source": [
    "###### part 3"
   ]
  },
  {
   "cell_type": "code",
   "execution_count": 5,
   "id": "15d3850030624c72",
   "metadata": {
    "ExecuteTime": {
     "end_time": "2025-01-29T13:53:54.974866Z",
     "start_time": "2025-01-29T13:53:54.849895Z"
    }
   },
   "outputs": [
    {
     "name": "stdout",
     "output_type": "stream",
     "text": [
      "Root found: 0.372092203280713\n"
     ]
    },
    {
     "data": {
      "text/plain": [
       "'\\nRoot found: 0.372092203280713\\n'"
      ]
     },
     "execution_count": 5,
     "metadata": {},
     "output_type": "execute_result"
    }
   ],
   "source": [
    "x = sp.symbols('x')\n",
    "y_prime = sp.diff(polynomial,x)\n",
    "\n",
    "def newton_raphson(f, df, x0, tol=1e-7, max_iter=100):\n",
    "    x_n = x0\n",
    "    for i in range(max_iter):\n",
    "        f_xn = f.subs(sp.symbols('x'), x_n)\n",
    "        df_xn = df.subs(sp.symbols('x'), x_n)\n",
    "        \n",
    "        if df_xn == 0:\n",
    "            print(\"Derivative is zero. No solution found.\")\n",
    "            return None\n",
    "        \n",
    "        x_n1 = x_n - f_xn / df_xn\n",
    "        \n",
    "        if abs(x_n1 - x_n) < tol:\n",
    "            return x_n1\n",
    "        \n",
    "        x_n = x_n1\n",
    "    \n",
    "    print(\"Maximum iterations reached. No solution found.\")\n",
    "    return None\n",
    "\n",
    "\n",
    "\n",
    "initial_guess = 2.0\n",
    "\n",
    "root = newton_raphson(polynomial, y_prime, initial_guess)\n",
    "\n",
    "if root is not None:\n",
    "    print(f\"Root found: {root}\")\n",
    "    \n"
   ]
  },
  {
   "cell_type": "markdown",
   "id": "5568d1a527a69bd1",
   "metadata": {},
   "source": [
    "# solving third-by-third systems of non-linear equations "
   ]
  },
  {
   "cell_type": "code",
   "execution_count": 7,
   "id": "bce45fc55899cd2f",
   "metadata": {
    "ExecuteTime": {
     "end_time": "2025-01-29T13:54:28.309547Z",
     "start_time": "2025-01-29T13:54:28.167700Z"
    }
   },
   "outputs": [
    {
     "name": "stdout",
     "output_type": "stream",
     "text": [
      "Solution: [ 1.71602449e-005 -1.00000000e+000  2.25305659e-149] \n",
      "\n",
      "x**2 + y**2 + z**2 - 1 [ 1.71602449e-005 -1.00000000e+000  2.25305659e-149] \n",
      "\n",
      "z*sin(y) [ 1.71602449e-005 -1.00000000e+000  2.25305659e-149] \n",
      "\n",
      "x**3 - z [ 1.71602449e-005 -1.00000000e+000  2.25305659e-149] \n",
      "\n"
     ]
    },
    {
     "data": {
      "text/plain": [
       "'\\n\\n\\nSolution: [ 1.71602449e-005 -1.00000000e+000  2.25305659e-149] \\n\\nx**2 + y**2 + z**2 - 1 [ 1.71602449e-005 -1.00000000e+000  2.25305659e-149] \\n\\nz*sin(y) [ 1.71602449e-005 -1.00000000e+000  2.25305659e-149] \\n\\nx**3 - z [ 1.71602449e-005 -1.00000000e+000  2.25305659e-149] \\n\\n\\n\\n\\n\\n'"
      ]
     },
     "execution_count": 7,
     "metadata": {},
     "output_type": "execute_result"
    }
   ],
   "source": [
    "def newton_solver(f, g, h, epsilon, init=[1, 1, 1]):\n",
    "    init = np.array(init, dtype=float)\n",
    "    x, y, z = sp.symbols('x y z')  \n",
    "\n",
    "    f_expr = f(x, y, z)\n",
    "    g_expr = g(x, y, z)\n",
    "    h_expr = h(x, y, z)\n",
    "\n",
    "    grad_f = [sp.diff(f_expr, var) for var in (x, y, z)]\n",
    "    grad_g = [sp.diff(g_expr, var) for var in (x, y, z)]\n",
    "    grad_h = [sp.diff(h_expr, var) for var in (x, y, z)]\n",
    "\n",
    "    f_num = sp.lambdify((x, y, z), f_expr, 'numpy')\n",
    "    g_num = sp.lambdify((x, y, z), g_expr, 'numpy')\n",
    "    h_num = sp.lambdify((x, y, z), h_expr, 'numpy')\n",
    "\n",
    "    grad_f_num = [sp.lambdify((x, y, z), grad, 'numpy') for grad in grad_f]\n",
    "    grad_g_num = [sp.lambdify((x, y, z), grad, 'numpy') for grad in grad_g]\n",
    "    grad_h_num = [sp.lambdify((x, y, z), grad, 'numpy') for grad in grad_h]\n",
    "\n",
    "    while True:\n",
    "        grad_f_val = [grad(*init) for grad in grad_f_num]\n",
    "        grad_g_val = [grad(*init) for grad in grad_g_num]\n",
    "        grad_h_val = [grad(*init) for grad in grad_h_num]\n",
    "\n",
    "        A = np.array([grad_f_val, grad_g_val, grad_h_val])\n",
    "\n",
    "        b = np.array([-f_num(*init), -g_num(*init), -h_num(*init)])\n",
    "\n",
    "        delta = np.linalg.solve(A, b)\n",
    "\n",
    "        init = init + delta\n",
    "\n",
    "        if np.linalg.norm(delta) < epsilon:\n",
    "            return init\n",
    "\n",
    "solution = newton_solver(\n",
    "    f:=lambda x, y, z: sp.symbols('x')**2 + sp.symbols('y')**2 + sp.symbols('z')**2 - 1,  \n",
    "    g:=lambda x, y, z: sp.sin(sp.symbols('y')) * sp.symbols('z'),      \n",
    "    h:=lambda x, y, z: sp.symbols('x')**3 +  - sp.symbols('z'),       \n",
    "    epsilon=1e-5,\n",
    "    init=[0.1, 0.1, 0.1]\n",
    ")\n",
    "\n",
    "print(\"Solution:\", solution,\"\\n\")\n",
    "x, y, z = solution\n",
    "print(f(x,y,z),solution,\"\\n\")\n",
    "print(g(x,y,z),solution,\"\\n\")\n",
    "print(h(x,y,z),solution,\"\\n\")\n",
    "\n"
   ]
  },
  {
   "cell_type": "markdown",
   "id": "2fe4fb333dc6697d",
   "metadata": {},
   "source": [
    "# finding the charectristic polynomial using the krylov method"
   ]
  },
  {
   "cell_type": "code",
   "execution_count": 8,
   "id": "378fed13581f87c4",
   "metadata": {
    "ExecuteTime": {
     "end_time": "2025-01-29T13:56:01.586725Z",
     "start_time": "2025-01-29T13:56:01.555452Z"
    }
   },
   "outputs": [
    {
     "name": "stdout",
     "output_type": "stream",
     "text": [
      "[[-20.]\n",
      " [-56.]\n",
      " [-40.]\n",
      " [ -4.]]\n",
      "   4      3      2\n",
      "1 x - 20 x - 56 x - 40 x - 4\n"
     ]
    },
    {
     "data": {
      "text/plain": [
       "'\\n[[-20.]\\n [-56.]\\n [-40.]\\n [ -4.]]\\n   4      3      2\\n1 x - 20 x - 56 x - 40 x - 4\\n\\n'"
      ]
     },
     "execution_count": 8,
     "metadata": {},
     "output_type": "execute_result"
    }
   ],
   "source": [
    "def krylov_method(A, v):\n",
    "    n = A.shape[0]  \n",
    "    K = v \n",
    "    for i in range(1, n):\n",
    "        K = np.c_[K, np.linalg.matrix_power(A, i).dot(v)]  \n",
    "    b = -np.linalg.matrix_power(A, n).dot(v)\n",
    "    c = np.linalg.solve(K, b)\n",
    "    return c\n",
    "\n",
    "A = np.array([[1, 2, 3, 4],\n",
    "              [2, 1, 2, 3],\n",
    "              [3, 2, 1, 2],\n",
    "              [4, 3, 2, 1]])\n",
    "v = np.array([[1], [0], [0], [0]])\n",
    "\n",
    "result = krylov_method(A, v)\n",
    "print(result)\n",
    "print(np.poly1d(np.insert(result,0,1).flatten()))\n"
   ]
  },
  {
   "cell_type": "code",
   "execution_count": 28,
   "id": "9e467f8d6ce94031",
   "metadata": {
    "ExecuteTime": {
     "end_time": "2025-01-27T10:51:14.181464Z",
     "start_time": "2025-01-27T10:51:14.165833Z"
    }
   },
   "outputs": [],
   "source": []
  },
  {
   "cell_type": "code",
   "execution_count": null,
   "id": "c6ac3065fec677d5",
   "metadata": {},
   "outputs": [],
   "source": []
  }
 ],
 "metadata": {
  "kernelspec": {
   "display_name": "Python 3",
   "language": "python",
   "name": "python3"
  },
  "language_info": {
   "codemirror_mode": {
    "name": "ipython",
    "version": 2
   },
   "file_extension": ".py",
   "mimetype": "text/x-python",
   "name": "python",
   "nbconvert_exporter": "python",
   "pygments_lexer": "ipython2",
   "version": "2.7.6"
  }
 },
 "nbformat": 4,
 "nbformat_minor": 5
}
